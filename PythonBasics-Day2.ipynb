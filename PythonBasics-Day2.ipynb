{
 "cells": [
  {
   "cell_type": "markdown",
   "id": "3a801e54",
   "metadata": {},
   "source": [
    "* bool, 비교연산, 논리연산"
   ]
  },
  {
   "cell_type": "code",
   "execution_count": null,
   "id": "bc5fa61d",
   "metadata": {},
   "outputs": [],
   "source": [
    "3>1"
   ]
  },
  {
   "cell_type": "code",
   "execution_count": null,
   "id": "903ae63f",
   "metadata": {},
   "outputs": [],
   "source": [
    "10!=5"
   ]
  },
  {
   "cell_type": "code",
   "execution_count": null,
   "id": "2e96c8fe",
   "metadata": {},
   "outputs": [],
   "source": [
    "'python'=='python'"
   ]
  },
  {
   "cell_type": "code",
   "execution_count": null,
   "id": "718ae597",
   "metadata": {},
   "outputs": [],
   "source": [
    "1==1.0"
   ]
  },
  {
   "cell_type": "code",
   "execution_count": null,
   "id": "2d83ad08",
   "metadata": {},
   "outputs": [],
   "source": [
    "1 is 1.0"
   ]
  },
  {
   "cell_type": "code",
   "execution_count": null,
   "id": "ce6daed3",
   "metadata": {},
   "outputs": [],
   "source": [
    "a=260"
   ]
  },
  {
   "cell_type": "code",
   "execution_count": null,
   "id": "1d4b3e7d",
   "metadata": {},
   "outputs": [],
   "source": [
    "b=260"
   ]
  },
  {
   "cell_type": "code",
   "execution_count": null,
   "id": "afe8ea58",
   "metadata": {},
   "outputs": [],
   "source": [
    "a==b"
   ]
  },
  {
   "cell_type": "code",
   "execution_count": null,
   "id": "fc6990de",
   "metadata": {},
   "outputs": [],
   "source": [
    "a is b"
   ]
  },
  {
   "cell_type": "markdown",
   "id": "45cf66e7",
   "metadata": {},
   "source": [
    "> 객체의 값은 같지만, 객체의 메모리상 위치가 다르기 때문에 위와 같이 나타남, \n",
    "> -5~256 까지는 메모리상 이미 위치가 지정되어 있음. 그 초과하는 숫자부터 지정할경우 위와 같이 나옴"
   ]
  },
  {
   "cell_type": "markdown",
   "id": "8f228468",
   "metadata": {},
   "source": [
    "== != 는 값 자체를 비교, is, is not 은 객체를 비교"
   ]
  },
  {
   "cell_type": "code",
   "execution_count": null,
   "id": "42f93fe4",
   "metadata": {},
   "outputs": [],
   "source": [
    "id (a)"
   ]
  },
  {
   "cell_type": "code",
   "execution_count": null,
   "id": "d47ad43b",
   "metadata": {},
   "outputs": [],
   "source": [
    "id (b)"
   ]
  },
  {
   "cell_type": "markdown",
   "id": "bcbf8cfc",
   "metadata": {},
   "source": [
    "주소가 같으면 같다고 나옴"
   ]
  },
  {
   "cell_type": "code",
   "execution_count": null,
   "id": "53d420b8",
   "metadata": {},
   "outputs": [],
   "source": [
    "10==10 and 10!=5"
   ]
  },
  {
   "cell_type": "code",
   "execution_count": null,
   "id": "49f5c2bc",
   "metadata": {},
   "outputs": [],
   "source": [
    "True and 'Python'"
   ]
  },
  {
   "cell_type": "code",
   "execution_count": null,
   "id": "e7f87a22",
   "metadata": {},
   "outputs": [],
   "source": [
    "2*3 is 3+3"
   ]
  },
  {
   "cell_type": "code",
   "execution_count": null,
   "id": "f1f0c2a9",
   "metadata": {},
   "outputs": [],
   "source": [
    "k = 92\n",
    "e = 47\n",
    "m = 86\n",
    "s = 81\n",
    "print(k >=50 and e >= 50 and m >= 50 and s >= 50)"
   ]
  },
  {
   "cell_type": "markdown",
   "id": "aca3e632",
   "metadata": {},
   "source": [
    "* and 는 객체중 하나만 False 이면 모두 False"
   ]
  },
  {
   "cell_type": "markdown",
   "id": "2a43e6f4",
   "metadata": {},
   "source": [
    "* 문자열"
   ]
  },
  {
   "cell_type": "code",
   "execution_count": null,
   "id": "4930eff2",
   "metadata": {},
   "outputs": [],
   "source": [
    "hello = '안녕하세요'"
   ]
  },
  {
   "cell_type": "code",
   "execution_count": null,
   "id": "78b33580",
   "metadata": {},
   "outputs": [],
   "source": [
    "hello"
   ]
  },
  {
   "cell_type": "markdown",
   "id": "5ab0dfa0",
   "metadata": {},
   "source": [
    "변수에는 한글 사용 불가, 하지만 값에는 한글 사용 가능"
   ]
  },
  {
   "cell_type": "code",
   "execution_count": null,
   "id": "f306ac8d",
   "metadata": {},
   "outputs": [],
   "source": [
    "print('hello')"
   ]
  },
  {
   "cell_type": "code",
   "execution_count": null,
   "id": "ea9fe1a0",
   "metadata": {},
   "outputs": [],
   "source": [
    "s1 = 'hello'\n",
    "s2 = \"hello\"\n",
    "s3 = '''hello'''\n",
    "s4 = \"\"\"hello\"\"\""
   ]
  },
  {
   "cell_type": "code",
   "execution_count": null,
   "id": "2d013e3c",
   "metadata": {},
   "outputs": [],
   "source": [
    "print(s1, s2, s3, s4, sep='\\n')"
   ]
  },
  {
   "cell_type": "markdown",
   "id": "03df52ec",
   "metadata": {},
   "source": [
    "* 따옴표의 사용 용도가 다 다름"
   ]
  },
  {
   "cell_type": "code",
   "execution_count": null,
   "id": "f2361f1c",
   "metadata": {},
   "outputs": [],
   "source": [
    "# hello 'python'\n",
    "s1=\"hello 'python'\"\n",
    "print(s1)"
   ]
  },
  {
   "cell_type": "code",
   "execution_count": null,
   "id": "03b6daea",
   "metadata": {},
   "outputs": [],
   "source": [
    "# hello \"python\"\n",
    "s2= 'hello \"python\"'\n",
    "print(s2)"
   ]
  },
  {
   "cell_type": "markdown",
   "id": "c80cf40e",
   "metadata": {},
   "source": [
    "강조에 사용하는것과 전체 쓰우는 따옴표의 종류를 다르게 해야함"
   ]
  },
  {
   "cell_type": "markdown",
   "id": "df7fc1fa",
   "metadata": {},
   "source": [
    "같은 따옴표 세개를 사용할 때는 안에 같은게 와도 상관 없음"
   ]
  },
  {
   "cell_type": "markdown",
   "id": "2361b02a",
   "metadata": {},
   "source": [
    "같은 따옴표를 연속으로 쓸 때는 강조 단어 부분의 따옴표 뒤에 스페이스 줘야 출력됨"
   ]
  },
  {
   "cell_type": "markdown",
   "id": "5bb391d3",
   "metadata": {},
   "source": [
    "따옴표 세개를 넣으면 문자열 줄바꿈 까지 가능함"
   ]
  },
  {
   "cell_type": "code",
   "execution_count": null,
   "id": "d0d12f63",
   "metadata": {},
   "outputs": [],
   "source": [
    "\"\"\"\"hello\" Python\"\"\""
   ]
  },
  {
   "cell_type": "code",
   "execution_count": null,
   "id": "a13a90e4",
   "metadata": {},
   "outputs": [],
   "source": [
    "s=\"\"\"hello \"python\" \"\"\"\n",
    "print(s)"
   ]
  },
  {
   "cell_type": "code",
   "execution_count": null,
   "id": "b9f264a5",
   "metadata": {},
   "outputs": [],
   "source": [
    "s=\"\"\"'Python' is a \"Programming language\"\n",
    "that lets you work quickly\n",
    "and\n",
    "intergrate systems mor effectively\"\"\"\n",
    "print (s)"
   ]
  },
  {
   "cell_type": "code",
   "execution_count": null,
   "id": "fd8f53a0",
   "metadata": {},
   "outputs": [],
   "source": [
    "a=[38, 21,53,62,19]"
   ]
  },
  {
   "cell_type": "code",
   "execution_count": null,
   "id": "301e94df",
   "metadata": {},
   "outputs": [],
   "source": [
    "a"
   ]
  },
  {
   "cell_type": "markdown",
   "id": "ffb330c9",
   "metadata": {},
   "source": [
    "* 문자, boolean 등 어떤 값이든 넣을 수 있음"
   ]
  },
  {
   "cell_type": "code",
   "execution_count": null,
   "id": "0b79cd75",
   "metadata": {},
   "outputs": [],
   "source": [
    "a=[]"
   ]
  },
  {
   "cell_type": "code",
   "execution_count": null,
   "id": "ca9c46be",
   "metadata": {},
   "outputs": [],
   "source": [
    "a"
   ]
  },
  {
   "cell_type": "code",
   "execution_count": null,
   "id": "ef64c81e",
   "metadata": {},
   "outputs": [],
   "source": [
    "b=list()"
   ]
  },
  {
   "cell_type": "code",
   "execution_count": null,
   "id": "63306a0c",
   "metadata": {},
   "outputs": [],
   "source": [
    "b"
   ]
  },
  {
   "cell_type": "markdown",
   "id": "b8b2a81e",
   "metadata": {},
   "source": [
    "빈 리스트 지정됨, 여기에 새 값을 추가하는 방식으로 사용 가능"
   ]
  },
  {
   "cell_type": "markdown",
   "id": "c48adc24",
   "metadata": {},
   "source": [
    "* range (숫자) 하면 숫자만큼 0~9까지 숫자가 생성됨"
   ]
  },
  {
   "cell_type": "code",
   "execution_count": null,
   "id": "a1a037f2",
   "metadata": {},
   "outputs": [],
   "source": [
    "range(10)"
   ]
  },
  {
   "cell_type": "code",
   "execution_count": null,
   "id": "dde9fe0f",
   "metadata": {},
   "outputs": [],
   "source": [
    "a=list(range(10))"
   ]
  },
  {
   "cell_type": "code",
   "execution_count": null,
   "id": "b1c14af0",
   "metadata": {},
   "outputs": [],
   "source": [
    "a"
   ]
  },
  {
   "cell_type": "markdown",
   "id": "2e7f6052",
   "metadata": {},
   "source": [
    "연속된 숫자를 생성하는 함수"
   ]
  },
  {
   "cell_type": "code",
   "execution_count": null,
   "id": "48151322",
   "metadata": {},
   "outputs": [],
   "source": [
    "range(9)"
   ]
  },
  {
   "cell_type": "code",
   "execution_count": null,
   "id": "0b364112",
   "metadata": {},
   "outputs": [],
   "source": [
    "b=list(range(9))"
   ]
  },
  {
   "cell_type": "code",
   "execution_count": null,
   "id": "1756370d",
   "metadata": {},
   "outputs": [],
   "source": [
    "b"
   ]
  },
  {
   "cell_type": "code",
   "execution_count": null,
   "id": "0fa9a6b9",
   "metadata": {},
   "outputs": [],
   "source": [
    "b=list(range(5,12))"
   ]
  },
  {
   "cell_type": "code",
   "execution_count": null,
   "id": "b3a1902d",
   "metadata": {},
   "outputs": [],
   "source": [
    "b"
   ]
  },
  {
   "cell_type": "code",
   "execution_count": null,
   "id": "808da9d4",
   "metadata": {},
   "outputs": [],
   "source": [
    "c=list(range(-4,10, 2))"
   ]
  },
  {
   "cell_type": "code",
   "execution_count": null,
   "id": "f734b175",
   "metadata": {},
   "outputs": [],
   "source": [
    "c"
   ]
  },
  {
   "cell_type": "markdown",
   "id": "555aeeb8",
   "metadata": {},
   "source": [
    "range 안에 지정순서 1번=시작, 2번=객체 끝, 3번=띄우기 단위"
   ]
  },
  {
   "cell_type": "code",
   "execution_count": null,
   "id": "197d3827",
   "metadata": {},
   "outputs": [],
   "source": [
    "range(10)"
   ]
  },
  {
   "cell_type": "code",
   "execution_count": null,
   "id": "4fad95c2",
   "metadata": {},
   "outputs": [],
   "source": [
    "type(range(10))"
   ]
  },
  {
   "cell_type": "code",
   "execution_count": null,
   "id": "5ff8fd20",
   "metadata": {},
   "outputs": [],
   "source": [
    "list(range(10))"
   ]
  },
  {
   "cell_type": "code",
   "execution_count": null,
   "id": "cd81f163",
   "metadata": {},
   "outputs": [],
   "source": [
    "range(5, 12)"
   ]
  },
  {
   "cell_type": "code",
   "execution_count": null,
   "id": "7cb82ca5",
   "metadata": {},
   "outputs": [],
   "source": [
    "list(range(5,12))"
   ]
  },
  {
   "cell_type": "code",
   "execution_count": null,
   "id": "54544808",
   "metadata": {},
   "outputs": [],
   "source": [
    "list(range(5,12,2))"
   ]
  },
  {
   "cell_type": "code",
   "execution_count": null,
   "id": "3a3755d0",
   "metadata": {},
   "outputs": [],
   "source": [
    "list(range(12, 5, -1))"
   ]
  },
  {
   "cell_type": "code",
   "execution_count": null,
   "id": "87d628e6",
   "metadata": {},
   "outputs": [],
   "source": [
    "list(range(12, 5, -2))"
   ]
  },
  {
   "cell_type": "markdown",
   "id": "6ca62f65",
   "metadata": {},
   "source": [
    "* Tuple = List와 여러개를 할당하는건 비슷하지만 변경 추가 삭제 할 수 없음"
   ]
  },
  {
   "cell_type": "code",
   "execution_count": null,
   "id": "c88ad696",
   "metadata": {},
   "outputs": [],
   "source": [
    "a=24, 34,27,96"
   ]
  },
  {
   "cell_type": "code",
   "execution_count": null,
   "id": "2f1a50c8",
   "metadata": {},
   "outputs": [],
   "source": [
    "a"
   ]
  },
  {
   "cell_type": "markdown",
   "id": "3bbac187",
   "metadata": {},
   "source": [
    "변경되지 않고 보존해야 하는 자료의 경우에 사용, 변경되면 에러 발생"
   ]
  },
  {
   "cell_type": "code",
   "execution_count": null,
   "id": "141ff544",
   "metadata": {},
   "outputs": [],
   "source": [
    "a=(24,34,27,96)"
   ]
  },
  {
   "cell_type": "code",
   "execution_count": null,
   "id": "ba3d6f4f",
   "metadata": {},
   "outputs": [],
   "source": [
    "a"
   ]
  },
  {
   "cell_type": "markdown",
   "id": "77ec6404",
   "metadata": {},
   "source": [
    "(38)은 단일값 생성 (38,)해야 튜플"
   ]
  },
  {
   "cell_type": "code",
   "execution_count": null,
   "id": "71894288",
   "metadata": {},
   "outputs": [],
   "source": [
    "(38)"
   ]
  },
  {
   "cell_type": "code",
   "execution_count": null,
   "id": "a6e7e9f2",
   "metadata": {},
   "outputs": [],
   "source": [
    "(38,)"
   ]
  },
  {
   "cell_type": "code",
   "execution_count": null,
   "id": "136a3729",
   "metadata": {},
   "outputs": [],
   "source": [
    "t=(1,2,3)"
   ]
  },
  {
   "cell_type": "code",
   "execution_count": null,
   "id": "315bc6c6",
   "metadata": {},
   "outputs": [],
   "source": [
    "type(t)"
   ]
  },
  {
   "cell_type": "code",
   "execution_count": null,
   "id": "c5f3311d",
   "metadata": {},
   "outputs": [],
   "source": [
    "t=(1, 'python', 1.5, True)"
   ]
  },
  {
   "cell_type": "code",
   "execution_count": null,
   "id": "855ba31d",
   "metadata": {},
   "outputs": [],
   "source": [
    "t1=(1,)"
   ]
  },
  {
   "cell_type": "code",
   "execution_count": null,
   "id": "cdf26e41",
   "metadata": {},
   "outputs": [],
   "source": [
    "type(t1)"
   ]
  },
  {
   "cell_type": "code",
   "execution_count": null,
   "id": "d6843d03",
   "metadata": {},
   "outputs": [],
   "source": [
    "t2=(1)\n",
    "t2"
   ]
  },
  {
   "cell_type": "code",
   "execution_count": null,
   "id": "fd8bfa80",
   "metadata": {},
   "outputs": [],
   "source": [
    "type(t2)"
   ]
  },
  {
   "cell_type": "markdown",
   "id": "81d72c37",
   "metadata": {},
   "source": [
    "콤마를 넣지 않아서 단일값(Int, 정수)가 됨"
   ]
  },
  {
   "cell_type": "code",
   "execution_count": null,
   "id": "eade2883",
   "metadata": {},
   "outputs": [],
   "source": [
    "range(10)"
   ]
  },
  {
   "cell_type": "code",
   "execution_count": null,
   "id": "e79e2e82",
   "metadata": {},
   "outputs": [],
   "source": [
    "list(range(10))"
   ]
  },
  {
   "cell_type": "code",
   "execution_count": null,
   "id": "8d6871d5",
   "metadata": {},
   "outputs": [],
   "source": [
    "tuple(range(10))"
   ]
  },
  {
   "cell_type": "markdown",
   "id": "1b95d9e4",
   "metadata": {},
   "source": [
    "튜플로 보면 괄호로 묶여있는걸로 보임, 대괄호 아님, 즉, 변경 불가 값이 됨"
   ]
  },
  {
   "cell_type": "code",
   "execution_count": null,
   "id": "499bf18a",
   "metadata": {},
   "outputs": [],
   "source": [
    "c=tuple(range(-4,10,2))"
   ]
  },
  {
   "cell_type": "code",
   "execution_count": null,
   "id": "0f113aa4",
   "metadata": {},
   "outputs": [],
   "source": [
    "c"
   ]
  },
  {
   "cell_type": "markdown",
   "id": "e2a9c447",
   "metadata": {},
   "source": [
    "튜플을 리스트로 감싸면 리스트가 됨"
   ]
  },
  {
   "cell_type": "code",
   "execution_count": null,
   "id": "1677265e",
   "metadata": {},
   "outputs": [],
   "source": [
    "list(c)"
   ]
  },
  {
   "cell_type": "code",
   "execution_count": null,
   "id": "7a9a455c",
   "metadata": {},
   "outputs": [],
   "source": [
    "a=1, 2, 3\n",
    "list(a)"
   ]
  },
  {
   "cell_type": "code",
   "execution_count": null,
   "id": "15586bb2",
   "metadata": {},
   "outputs": [],
   "source": [
    "type(a)"
   ]
  },
  {
   "cell_type": "code",
   "execution_count": null,
   "id": "7e520f6b",
   "metadata": {},
   "outputs": [],
   "source": [
    "step = int(input())\n",
    "t = tuple(range(-10, 10, step))\n",
    "print(t)"
   ]
  },
  {
   "cell_type": "markdown",
   "id": "556996c2",
   "metadata": {},
   "source": [
    "* 시퀀스 자료형 활용"
   ]
  },
  {
   "cell_type": "markdown",
   "id": "78b73824",
   "metadata": {},
   "source": [
    "값이 연속적으로 이어진 자료형을 시퀀스 자료형이라고 부름 (sequence types)"
   ]
  },
  {
   "cell_type": "code",
   "execution_count": null,
   "id": "c29b3747",
   "metadata": {},
   "outputs": [],
   "source": [
    "a=[10,20,30,40,50,60,70,80,90]"
   ]
  },
  {
   "cell_type": "code",
   "execution_count": null,
   "id": "b6138f5f",
   "metadata": {},
   "outputs": [],
   "source": [
    "100 in a"
   ]
  },
  {
   "cell_type": "code",
   "execution_count": null,
   "id": "19b238b1",
   "metadata": {},
   "outputs": [],
   "source": [
    "30 in a"
   ]
  },
  {
   "cell_type": "markdown",
   "id": "a4731b8d",
   "metadata": {},
   "source": [
    "* 값이 리스트에 존재하는지 확인 가능"
   ]
  },
  {
   "cell_type": "code",
   "execution_count": null,
   "id": "94f1b49c",
   "metadata": {},
   "outputs": [],
   "source": [
    "30 not in a"
   ]
  },
  {
   "cell_type": "code",
   "execution_count": null,
   "id": "bf7ce77f",
   "metadata": {},
   "outputs": [],
   "source": [
    "100 not in a"
   ]
  },
  {
   "cell_type": "markdown",
   "id": "790f2c48",
   "metadata": {},
   "source": [
    "list tuple range 문자열 모두 적용 가능, bytes, bytesaray 도 가능"
   ]
  },
  {
   "cell_type": "code",
   "execution_count": null,
   "id": "df0be839",
   "metadata": {},
   "outputs": [],
   "source": [
    "43 in (38, 43, 29, 94)"
   ]
  },
  {
   "cell_type": "code",
   "execution_count": null,
   "id": "b5d02bd8",
   "metadata": {},
   "outputs": [],
   "source": [
    "1 in range(10)"
   ]
  },
  {
   "cell_type": "code",
   "execution_count": null,
   "id": "2717d32e",
   "metadata": {},
   "outputs": [],
   "source": [
    "'p' in 'hello python'"
   ]
  },
  {
   "cell_type": "code",
   "execution_count": null,
   "id": "c0091c6d",
   "metadata": {},
   "outputs": [],
   "source": [
    "a=[1,2,3]\n",
    "b=[4,5,6]\n",
    "a+b"
   ]
  },
  {
   "cell_type": "markdown",
   "id": "4f17ba9e",
   "metadata": {},
   "source": [
    "range 는 + 연산자로 객체 연결 불가능"
   ]
  },
  {
   "cell_type": "code",
   "execution_count": null,
   "id": "df75dfa4",
   "metadata": {},
   "outputs": [],
   "source": [
    "range(0,10) + range(10, 20)"
   ]
  },
  {
   "cell_type": "code",
   "execution_count": null,
   "id": "def19d22",
   "metadata": {},
   "outputs": [],
   "source": [
    "list(range(0,10))+list(range(10, 20))"
   ]
  },
  {
   "cell_type": "code",
   "execution_count": null,
   "id": "6c659f7b",
   "metadata": {},
   "outputs": [],
   "source": [
    "[0,10,20,30]*3"
   ]
  },
  {
   "cell_type": "markdown",
   "id": "2b28022d",
   "metadata": {},
   "source": [
    "> 정수를 곱하면 객체 수가 늘어남"
   ]
  },
  {
   "cell_type": "markdown",
   "id": "f188ba24",
   "metadata": {},
   "source": [
    "> range는 곱하기 연산자도 사용 불가능"
   ]
  },
  {
   "cell_type": "markdown",
   "id": "e55958ff",
   "metadata": {},
   "source": [
    "> range를 list 또는 tuple로 바꿔야 연산자 사용 가능"
   ]
  },
  {
   "cell_type": "code",
   "execution_count": null,
   "id": "b75843bb",
   "metadata": {},
   "outputs": [],
   "source": [
    "'hello '*3"
   ]
  },
  {
   "cell_type": "code",
   "execution_count": null,
   "id": "fae88d21",
   "metadata": {},
   "outputs": [],
   "source": [
    "a=[1,2,3,4,5]\n",
    "len(a)"
   ]
  },
  {
   "cell_type": "markdown",
   "id": "b4e0dbc2",
   "metadata": {},
   "source": [
    "개수 구해짐"
   ]
  },
  {
   "cell_type": "code",
   "execution_count": null,
   "id": "2a29a1ac",
   "metadata": {},
   "outputs": [],
   "source": [
    "len(range(0, 10, 2))"
   ]
  },
  {
   "cell_type": "markdown",
   "id": "1a7094f6",
   "metadata": {},
   "source": [
    ">len 연산은 range에 적용 가능"
   ]
  },
  {
   "cell_type": "code",
   "execution_count": null,
   "id": "7e70366e",
   "metadata": {},
   "outputs": [],
   "source": [
    "hello = 'hello, world!'\n",
    "len(hello)"
   ]
  },
  {
   "cell_type": "code",
   "execution_count": null,
   "id": "dee3c085",
   "metadata": {},
   "outputs": [],
   "source": [
    "hello='안녕하세요'\n",
    "len(hello)"
   ]
  },
  {
   "cell_type": "markdown",
   "id": "1b9f0288",
   "metadata": {},
   "source": [
    "* 인덱스 사용"
   ]
  },
  {
   "cell_type": "code",
   "execution_count": null,
   "id": "e3a71ced",
   "metadata": {},
   "outputs": [],
   "source": [
    "a=[38,21,55,27,43]\n",
    "a[0]"
   ]
  },
  {
   "cell_type": "code",
   "execution_count": null,
   "id": "32ad7c5a",
   "metadata": {},
   "outputs": [],
   "source": [
    "a[4]"
   ]
  },
  {
   "cell_type": "code",
   "execution_count": null,
   "id": "ed838f65",
   "metadata": {},
   "outputs": [],
   "source": [
    "a[-3]"
   ]
  },
  {
   "cell_type": "code",
   "execution_count": null,
   "id": "3c528c6d",
   "metadata": {},
   "outputs": [],
   "source": [
    "a[5]"
   ]
  },
  {
   "cell_type": "markdown",
   "id": "1f87132a",
   "metadata": {},
   "source": [
    "> 0이 첫번째 객체를 뜻함, 인덱스는 항상 0 부터 시작함, 갯수가 다섯개면 마지막 색인(인덱스)는 4임"
   ]
  },
  {
   "cell_type": "markdown",
   "id": "c841387b",
   "metadata": {},
   "source": [
    "> -1 을 이용하면 마지막에서 첫번째 인덱스임"
   ]
  },
  {
   "cell_type": "markdown",
   "id": "2feb8a04",
   "metadata": {},
   "source": [
    "* 시퀀스 자료형 복합문제"
   ]
  },
  {
   "cell_type": "code",
   "execution_count": null,
   "id": "ac0219b2",
   "metadata": {},
   "outputs": [],
   "source": [
    "a=[0,1,2,3,4,5,6,7,8,9]"
   ]
  },
  {
   "cell_type": "code",
   "execution_count": null,
   "id": "9273ab43",
   "metadata": {},
   "outputs": [],
   "source": [
    "len(a)"
   ]
  },
  {
   "cell_type": "code",
   "execution_count": null,
   "id": "7c532d4e",
   "metadata": {},
   "outputs": [],
   "source": [
    "a[0]"
   ]
  },
  {
   "cell_type": "code",
   "execution_count": null,
   "id": "0aa3c943",
   "metadata": {},
   "outputs": [],
   "source": [
    "a[9]"
   ]
  },
  {
   "cell_type": "code",
   "execution_count": null,
   "id": "5e68f924",
   "metadata": {},
   "outputs": [],
   "source": [
    "a[0:len(a)]"
   ]
  },
  {
   "cell_type": "markdown",
   "id": "b4a8f322",
   "metadata": {},
   "source": [
    "슬라이싱은 마지막 숫자를 포함하지 않기 때문에 가능함."
   ]
  },
  {
   "cell_type": "code",
   "execution_count": null,
   "id": "5358fc01",
   "metadata": {},
   "outputs": [],
   "source": [
    "a[:]"
   ]
  },
  {
   "cell_type": "code",
   "execution_count": null,
   "id": "bf37f2a2",
   "metadata": {},
   "outputs": [],
   "source": [
    "a[::]"
   ]
  },
  {
   "cell_type": "code",
   "execution_count": null,
   "id": "4a7779e4",
   "metadata": {},
   "outputs": [],
   "source": [
    "a[:len(a):]"
   ]
  },
  {
   "cell_type": "markdown",
   "id": "ac3bc82d",
   "metadata": {},
   "source": [
    "다 같은 말임, 슬라이스는 값을 변경하는게 아니라 값을 가져와 확인하는 것이므로 튜플도 사용 가능"
   ]
  },
  {
   "cell_type": "code",
   "execution_count": null,
   "id": "666453e6",
   "metadata": {},
   "outputs": [],
   "source": [
    "a[2:5]=['a','b','c']\n",
    "a"
   ]
  },
  {
   "cell_type": "code",
   "execution_count": null,
   "id": "98b1fd29",
   "metadata": {},
   "outputs": [],
   "source": [
    "a[2:5]=['a']\n",
    "a"
   ]
  },
  {
   "cell_type": "markdown",
   "id": "d672f16c",
   "metadata": {},
   "source": [
    "> 객체수가 부족하면 나머지는 삭제되고 하나만 대체됨"
   ]
  },
  {
   "cell_type": "code",
   "execution_count": null,
   "id": "9e75aeee",
   "metadata": {},
   "outputs": [],
   "source": [
    "a[2:5]=['a','b','c','d','e']\n",
    "a"
   ]
  },
  {
   "cell_type": "markdown",
   "id": "59a97210",
   "metadata": {},
   "source": [
    "> 객체수가 더 많으면 추가됨"
   ]
  },
  {
   "cell_type": "code",
   "execution_count": null,
   "id": "a52360ca",
   "metadata": {},
   "outputs": [],
   "source": [
    "a=[1,2,3,4,5,6,7,8,9]\n",
    "a[2:8:2]=['a','b','c']\n",
    "a"
   ]
  },
  {
   "cell_type": "markdown",
   "id": "fb2daf94",
   "metadata": {},
   "source": [
    "> 단, 슬라이스 시 증가폭 지정할 경우 요소 개구와 할당 요소 개수가 동일해야 함."
   ]
  },
  {
   "cell_type": "markdown",
   "id": "ccc8ed6e",
   "metadata": {},
   "source": [
    "> 튜플, range, 문자열은 범위 지정해도 요소 할당 안 됨."
   ]
  },
  {
   "cell_type": "markdown",
   "id": "dbc4c836",
   "metadata": {},
   "source": [
    "* del 로 슬라이스 삭제하기"
   ]
  },
  {
   "cell_type": "code",
   "execution_count": null,
   "id": "eb713e82",
   "metadata": {},
   "outputs": [],
   "source": [
    "a=[10,20,30,40,50,60,70,80,90]\n",
    "del a[2:5]\n",
    "a"
   ]
  },
  {
   "cell_type": "markdown",
   "id": "163266a0",
   "metadata": {},
   "source": [
    "> 원래 있던 리스트가 변경되며 새 리스트는 생성되지 않음"
   ]
  },
  {
   "cell_type": "code",
   "execution_count": null,
   "id": "c534321d",
   "metadata": {},
   "outputs": [],
   "source": [
    "len (a)"
   ]
  },
  {
   "cell_type": "code",
   "execution_count": null,
   "id": "6388d1a1",
   "metadata": {},
   "outputs": [],
   "source": [
    "a=[1,2,3]\n",
    "b=[1,2,3]\n",
    "a+b"
   ]
  },
  {
   "cell_type": "markdown",
   "id": "15f69510",
   "metadata": {},
   "source": [
    ">  (+) 연산자로 두 시퀀스 객체를 연결하면 첫번째 객체 안에 두 번째 객체가 들어가는게 아니라 새로운 객체가 형성됨"
   ]
  },
  {
   "cell_type": "markdown",
   "id": "43952d69",
   "metadata": {},
   "source": [
    "* 최근 3년간 인구 수 출력하기"
   ]
  },
  {
   "cell_type": "code",
   "execution_count": null,
   "id": "b8dc73af",
   "metadata": {},
   "outputs": [],
   "source": [
    "y=[2011,2012,2013,2014,2015,2016,2017,2018]\n",
    "p=[10249679,10195318,10143645,10103233,10022181,9930616,9857426,9838892]\n",
    "y[-3:]\n",
    "p[-3:]"
   ]
  },
  {
   "cell_type": "code",
   "execution_count": null,
   "id": "d6a68a90",
   "metadata": {},
   "outputs": [],
   "source": [
    "y=[2011,2012,2013,2014,2015,2016,2017,2018]\n",
    "p=[10249679,10195318,10143645,10103233,10022181,9930616,9857426,9838892]\n",
    "y[-3::]\n",
    "p[-3::]"
   ]
  },
  {
   "cell_type": "code",
   "execution_count": null,
   "id": "2eaf312a",
   "metadata": {},
   "outputs": [],
   "source": [
    "y[-3::]\n",
    "p[-3::]"
   ]
  },
  {
   "cell_type": "code",
   "execution_count": null,
   "id": "1380d11e",
   "metadata": {},
   "outputs": [],
   "source": [
    "y[len(y)-3:]\n",
    "p[len(p)-3:]"
   ]
  },
  {
   "cell_type": "markdown",
   "id": "7d86dc54",
   "metadata": {},
   "source": [
    "* 튜플에서 홀수번째 숫자만 출력하기"
   ]
  },
  {
   "cell_type": "code",
   "execution_count": null,
   "id": "83ee3539",
   "metadata": {
    "scrolled": true
   },
   "outputs": [],
   "source": [
    "n=-32,75,97,-10,9,32,4,-15,0,76,14,2\n",
    "print(n[1::2])"
   ]
  },
  {
   "cell_type": "markdown",
   "id": "95fe5393",
   "metadata": {},
   "source": [
    "* list의 마지막 5개 요소 삭제하기\n",
    "\n",
    "입력 : 1,2,3,4,5,6,7,8,9,10\n",
    "결과 : '1', '2', '3', '4', '5'\n",
    "\n",
    "입력 : 무작위 단어 10개\n",
    "결과 : 앞 단어 5개"
   ]
  },
  {
   "cell_type": "code",
   "execution_count": null,
   "id": "e5ff5bfe",
   "metadata": {},
   "outputs": [],
   "source": [
    "x=input().split()\n",
    "del x[-5:]\n",
    "tuple (x)\n",
    "print (x)"
   ]
  },
  {
   "cell_type": "markdown",
   "id": "90634df7",
   "metadata": {},
   "source": [
    "> print와 tuple 합쳐도 됨 : print(tuple(x))"
   ]
  },
  {
   "cell_type": "markdown",
   "id": "8b6f1f0e",
   "metadata": {},
   "source": [
    "* 주민번호를 대쉬 앞 뒤로 나누고, 남자인지 여자인지 구별하기"
   ]
  },
  {
   "cell_type": "code",
   "execution_count": null,
   "id": "e6ef5019",
   "metadata": {},
   "outputs": [],
   "source": [
    "pin = \"881120-1068234\"\n",
    "pin"
   ]
  },
  {
   "cell_type": "code",
   "execution_count": null,
   "id": "d9413562",
   "metadata": {},
   "outputs": [],
   "source": [
    "a,b=pin.split(\"-\")\n",
    "\n",
    "if b[0] == \"1\":print(\"남자\")\n",
    "else : print(\"여자\")"
   ]
  },
  {
   "cell_type": "markdown",
   "id": "1816abd3",
   "metadata": {},
   "source": [
    "* 전화번호 앞자리 가리기"
   ]
  },
  {
   "cell_type": "code",
   "execution_count": null,
   "id": "f2e0bfd7",
   "metadata": {},
   "outputs": [],
   "source": [
    "pn=input()\n",
    "pn=\"*\"*(len(pn)-4)+pn[-4:]\n",
    "pn"
   ]
  },
  {
   "cell_type": "code",
   "execution_count": null,
   "id": "700e2e4a",
   "metadata": {},
   "outputs": [],
   "source": [
    "pn=input()\n",
    "pn=\"*\"*(len(pn)-4)+pn[-4:]\n",
    "pn"
   ]
  },
  {
   "cell_type": "markdown",
   "id": "a1dede54",
   "metadata": {},
   "source": [
    "해설"
   ]
  },
  {
   "cell_type": "code",
   "execution_count": null,
   "id": "32c36872",
   "metadata": {},
   "outputs": [],
   "source": [
    " # PN=input()\n",
    "PN = \"01012345678\"\n",
    " # result = \"*******5678\"\n",
    " # result1=PN[0:len(PN)-4]\n",
    "result1=(len(PN)-4)*'#'\n",
    "result2=PN[-4:]\n",
    "result1+result2"
   ]
  },
  {
   "cell_type": "markdown",
   "id": "7a367600",
   "metadata": {},
   "source": [
    "* 딕셔너리 사용하기"
   ]
  },
  {
   "cell_type": "markdown",
   "id": "c28bad0f",
   "metadata": {},
   "source": [
    "> 딕셔너리는 객체의 연속이 아님, 연관된 값을 묶어서 저장하는 용도임"
   ]
  },
  {
   "cell_type": "code",
   "execution_count": null,
   "id": "93861aab",
   "metadata": {},
   "outputs": [],
   "source": [
    "lux = {'health' : 490, 'mana' : 334, 'melee' : 550, 'armor' : 18.72}\n",
    "lux"
   ]
  },
  {
   "cell_type": "markdown",
   "id": "76dbc763",
   "metadata": {},
   "source": [
    "# health = key, 490 = 값, 키-값은 하나로 대응"
   ]
  },
  {
   "cell_type": "code",
   "execution_count": null,
   "id": "9afbd4ba",
   "metadata": {},
   "outputs": [],
   "source": [
    "# 키 자리에는 변경 가능한 자료가 오면 안됨"
   ]
  },
  {
   "cell_type": "code",
   "execution_count": null,
   "id": "7cb84ab7",
   "metadata": {},
   "outputs": [],
   "source": [
    "lux = {'health' : 490, 'mana' : 334, 'melee' : 550, 'armor' : 18.72}\n",
    "lux['health']"
   ]
  },
  {
   "cell_type": "code",
   "execution_count": null,
   "id": "9cd6556c",
   "metadata": {},
   "outputs": [],
   "source": [
    "lux = {'health' : 490, 'health' :800, 'mana' : 334, 'melee' : 550, 'armor' : 18.72}\n",
    "lux['health']"
   ]
  },
  {
   "cell_type": "markdown",
   "id": "d7dd40e4",
   "metadata": {},
   "source": [
    "# 중복된 값이 있으면 가장 마지막 값이 출력됨"
   ]
  },
  {
   "cell_type": "code",
   "execution_count": null,
   "id": "98df2913",
   "metadata": {},
   "outputs": [],
   "source": [
    "lux"
   ]
  },
  {
   "cell_type": "code",
   "execution_count": null,
   "id": "d08a5b06",
   "metadata": {},
   "outputs": [],
   "source": [
    "x = {100 : 'hundred', False : 0, 3.5 : [3.5, 3.5]}\n",
    "x"
   ]
  },
  {
   "cell_type": "markdown",
   "id": "dd76a8ce",
   "metadata": {},
   "source": [
    "> 키자리에 숫자 불리안 실수 가능, 값자리에 문자, 값, 리스트 가능, 키자리에 리스트와 딕셔너리만 못들어감"
   ]
  },
  {
   "cell_type": "code",
   "execution_count": null,
   "id": "a21efc4c",
   "metadata": {},
   "outputs": [],
   "source": [
    "# 키값으로 사용이 안되는 자료형1 (리스트)\n",
    "x = {[10, 20] : 100}"
   ]
  },
  {
   "cell_type": "markdown",
   "id": "e49ddbb1",
   "metadata": {},
   "source": [
    "> 리스트는 해슁이 안되는 타입이라는 뜻으로 오류가 남"
   ]
  },
  {
   "cell_type": "code",
   "execution_count": null,
   "id": "e70f945c",
   "metadata": {},
   "outputs": [],
   "source": [
    "# 키값에 올수 있는 값이 나오는지 확인하는 방법\n",
    "\n",
    "hash(100)"
   ]
  },
  {
   "cell_type": "markdown",
   "id": "7bf0219e",
   "metadata": {},
   "source": [
    "> 가능하면 값이 제대로 출력됨"
   ]
  },
  {
   "cell_type": "code",
   "execution_count": null,
   "id": "7acdb8cd",
   "metadata": {},
   "outputs": [],
   "source": [
    "# 키값으로 사용이 안되는 자료형2(딕셔너리)\n",
    "hash(lux)"
   ]
  },
  {
   "cell_type": "markdown",
   "id": "3441d9a0",
   "metadata": {},
   "source": [
    "> 딕셔너리 넣으니까 해싱 안됨"
   ]
  },
  {
   "cell_type": "markdown",
   "id": "ecc423fc",
   "metadata": {},
   "source": [
    "* 딕셔너리 만들기"
   ]
  },
  {
   "cell_type": "code",
   "execution_count": null,
   "id": "83df3610",
   "metadata": {},
   "outputs": [],
   "source": [
    "x = {}\n",
    "y = dict()\n",
    "print(type(x), type(y))"
   ]
  },
  {
   "cell_type": "code",
   "execution_count": null,
   "id": "a66558c7",
   "metadata": {},
   "outputs": [],
   "source": [
    "# 1번째 옵션\n",
    "lux1 = dict(health=490, mana=334)\n",
    "# 키 값 형식으로 딕셔너리를 만듬\n",
    "\n",
    "lux1"
   ]
  },
  {
   "cell_type": "code",
   "execution_count": null,
   "id": "1c193e0a",
   "metadata": {},
   "outputs": [],
   "source": [
    "# 2번째 옵션\n",
    "lux2 = dict(zip(['melee', 'amor'], [550, 18.72]))\n",
    "lux2"
   ]
  },
  {
   "cell_type": "code",
   "execution_count": null,
   "id": "428cac64",
   "metadata": {},
   "outputs": [],
   "source": [
    "# 참고\n",
    "\n",
    "zip(['health', 'mana'], [490, 334])"
   ]
  },
  {
   "cell_type": "code",
   "execution_count": null,
   "id": "093880f1",
   "metadata": {},
   "outputs": [],
   "source": [
    "# 3번째 옵션\n",
    "lux3 = dict([(\"health\", 490), (\"mana\", 334)])\n",
    "lux3"
   ]
  },
  {
   "cell_type": "code",
   "execution_count": null,
   "id": "3c91d1a0",
   "metadata": {},
   "outputs": [],
   "source": [
    "lux['health']"
   ]
  },
  {
   "cell_type": "code",
   "execution_count": null,
   "id": "e8a3b500",
   "metadata": {},
   "outputs": [],
   "source": [
    "lux['health'] = 2037\n",
    "lux['health']"
   ]
  },
  {
   "cell_type": "code",
   "execution_count": null,
   "id": "9ab39d02",
   "metadata": {},
   "outputs": [],
   "source": [
    "'health' in lux"
   ]
  },
  {
   "cell_type": "code",
   "execution_count": null,
   "id": "f8cb1472",
   "metadata": {},
   "outputs": [],
   "source": [
    "# in 또는 not in 사용 가능"
   ]
  },
  {
   "cell_type": "code",
   "execution_count": null,
   "id": "07e272cb",
   "metadata": {},
   "outputs": [],
   "source": [
    "len(lux)"
   ]
  },
  {
   "cell_type": "code",
   "execution_count": null,
   "id": "428e52fd",
   "metadata": {},
   "outputs": [],
   "source": [
    "keys = input().split()\n",
    "values = map(float, input().split())\n",
    "d = {}\n",
    "\n",
    "zipped = zip(keys, values)\n",
    "dict(zipped)\n",
    "\n",
    "# 값 지정에서 빠진 부분이 있어 안나오는 거임 강의 다시 볼 것"
   ]
  },
  {
   "cell_type": "markdown",
   "id": "55391e20",
   "metadata": {},
   "source": [
    "* if 조건문으로 특정 조건일 때 코드 실행하기"
   ]
  },
  {
   "cell_type": "markdown",
   "id": "69ca6c48",
   "metadata": {},
   "source": [
    "> indentation(들여쓰기)가 중요함"
   ]
  },
  {
   "cell_type": "markdown",
   "id": "3393b90b",
   "metadata": {},
   "source": [
    "*  elif 사용하여 여러방향으로 분기"
   ]
  },
  {
   "cell_type": "code",
   "execution_count": null,
   "id": "d352a075",
   "metadata": {},
   "outputs": [],
   "source": [
    "x = 5\n",
    "\n",
    "if x != 10:\n",
    "    print('OK')"
   ]
  },
  {
   "cell_type": "markdown",
   "id": "6cff11a6",
   "metadata": {},
   "source": [
    "문제 > 온라인 할인 쿠폰 시스템, 쿠폰가격에 따른 할인 가격 표시 시스템 만들기 (입력, 27000, cash 3000 / 출력 24000)"
   ]
  },
  {
   "cell_type": "code",
   "execution_count": 2,
   "id": "041402f6",
   "metadata": {},
   "outputs": [
    {
     "name": "stdout",
     "output_type": "stream",
     "text": [
      "30000\n",
      "cash3000\n",
      "27000\n"
     ]
    }
   ],
   "source": [
    "price = int(input())\n",
    "coupon = input()\n",
    "\n",
    "if coupon == 'cash3000':\n",
    "    price -= 3000\n",
    "    \n",
    "elif coupon == 'cash5000':\n",
    "    price -= 5000\n",
    "\n",
    "else:\n",
    "    pass\n",
    "\n",
    "print(price)"
   ]
  },
  {
   "cell_type": "markdown",
   "id": "bee75a0a",
   "metadata": {},
   "source": [
    "# ''(공란) 은 항상 False임"
   ]
  },
  {
   "cell_type": "markdown",
   "id": "d46a5f7c",
   "metadata": {},
   "source": [
    "A 기업의 입사히험은 필기 시험 점수가 80점 이상이면서 코딩 시험을 통화해야 합격이라고 정했습니다(코딩 시험 통과 여부는 T, F로 구분). 다음 소스 코드를 완성하여, 합, 불 출력되게 만들것\n",
    "\n",
    "written_test = 75\n",
    "coding_test = True\n",
    "1번 __________written_test_________coding_test________:\n",
    "(줄바꿔서 들여쓰기)print('합격')\n",
    "(줄바꾸기)else:\n",
    "(줄바꿔서 들여쓰기)print('불합격')\n",
    "    \n",
    "\n",
    "정답 : if, >=80 and, == True"
   ]
  },
  {
   "cell_type": "code",
   "execution_count": 3,
   "id": "9a2ea428",
   "metadata": {},
   "outputs": [
    {
     "name": "stdout",
     "output_type": "stream",
     "text": [
      "불합격\n"
     ]
    }
   ],
   "source": [
    "w = 75\n",
    "c = True\n",
    "\n",
    "if w >= 80 and c == True:\n",
    "    print ('합격')\n",
    "\n",
    "else:\n",
    "    print ('불합격')"
   ]
  },
  {
   "cell_type": "code",
   "execution_count": null,
   "id": "0edcf0b1",
   "metadata": {},
   "outputs": [],
   "source": []
  }
 ],
 "metadata": {
  "kernelspec": {
   "display_name": "Python 3",
   "language": "python",
   "name": "python3"
  },
  "language_info": {
   "codemirror_mode": {
    "name": "ipython",
    "version": 3
   },
   "file_extension": ".py",
   "mimetype": "text/x-python",
   "name": "python",
   "nbconvert_exporter": "python",
   "pygments_lexer": "ipython3",
   "version": "3.8.8"
  }
 },
 "nbformat": 4,
 "nbformat_minor": 5
}
